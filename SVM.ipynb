{
  "nbformat": 4,
  "nbformat_minor": 0,
  "metadata": {
    "colab": {
      "provenance": [],
      "collapsed_sections": []
    },
    "kernelspec": {
      "name": "python3",
      "display_name": "Python 3"
    },
    "language_info": {
      "name": "python"
    }
  },
  "cells": [
    {
      "cell_type": "code",
      "source": [
        "import pandas as pd\n"
      ],
      "metadata": {
        "colab": {
          "base_uri": "https://localhost:8080/",
          "height": 175
        },
        "id": "Q6bv90acCkRX",
        "outputId": "ebbb55e4-0c2f-478d-c074-7d935b9599f7"
      },
      "execution_count": null,
      "outputs": [
        {
          "output_type": "execute_result",
          "data": {
            "text/plain": [
              "               Name        UIN             Email\n",
              "0       Danish Khan  653898374  mkhan354@uic.edu\n",
              "1  Urvashiben Patel  656803288  upatel46@uic.edu\n",
              "2    Saloni Kataria  662519005   skatar6@uic.edu\n",
              "3   Pratibha Chitta  661448114   pchitt2@uic.edu"
            ],
            "text/html": [
              "\n",
              "  <div id=\"df-43159984-d0cc-4570-a5a2-c2a917f727ae\">\n",
              "    <div class=\"colab-df-container\">\n",
              "      <div>\n",
              "<style scoped>\n",
              "    .dataframe tbody tr th:only-of-type {\n",
              "        vertical-align: middle;\n",
              "    }\n",
              "\n",
              "    .dataframe tbody tr th {\n",
              "        vertical-align: top;\n",
              "    }\n",
              "\n",
              "    .dataframe thead th {\n",
              "        text-align: right;\n",
              "    }\n",
              "</style>\n",
              "<table border=\"1\" class=\"dataframe\">\n",
              "  <thead>\n",
              "    <tr style=\"text-align: right;\">\n",
              "      <th></th>\n",
              "      <th>Name</th>\n",
              "      <th>UIN</th>\n",
              "      <th>Email</th>\n",
              "    </tr>\n",
              "  </thead>\n",
              "  <tbody>\n",
              "    <tr>\n",
              "      <th>0</th>\n",
              "      <td>Danish Khan</td>\n",
              "      <td>653898374</td>\n",
              "      <td>mkhan354@uic.edu</td>\n",
              "    </tr>\n",
              "    <tr>\n",
              "      <th>1</th>\n",
              "      <td>Urvashiben Patel</td>\n",
              "      <td>656803288</td>\n",
              "      <td>upatel46@uic.edu</td>\n",
              "    </tr>\n",
              "    <tr>\n",
              "      <th>2</th>\n",
              "      <td>Saloni Kataria</td>\n",
              "      <td>662519005</td>\n",
              "      <td>skatar6@uic.edu</td>\n",
              "    </tr>\n",
              "    <tr>\n",
              "      <th>3</th>\n",
              "      <td>Pratibha Chitta</td>\n",
              "      <td>661448114</td>\n",
              "      <td>pchitt2@uic.edu</td>\n",
              "    </tr>\n",
              "  </tbody>\n",
              "</table>\n",
              "</div>\n",
              "      <button class=\"colab-df-convert\" onclick=\"convertToInteractive('df-43159984-d0cc-4570-a5a2-c2a917f727ae')\"\n",
              "              title=\"Convert this dataframe to an interactive table.\"\n",
              "              style=\"display:none;\">\n",
              "        \n",
              "  <svg xmlns=\"http://www.w3.org/2000/svg\" height=\"24px\"viewBox=\"0 0 24 24\"\n",
              "       width=\"24px\">\n",
              "    <path d=\"M0 0h24v24H0V0z\" fill=\"none\"/>\n",
              "    <path d=\"M18.56 5.44l.94 2.06.94-2.06 2.06-.94-2.06-.94-.94-2.06-.94 2.06-2.06.94zm-11 1L8.5 8.5l.94-2.06 2.06-.94-2.06-.94L8.5 2.5l-.94 2.06-2.06.94zm10 10l.94 2.06.94-2.06 2.06-.94-2.06-.94-.94-2.06-.94 2.06-2.06.94z\"/><path d=\"M17.41 7.96l-1.37-1.37c-.4-.4-.92-.59-1.43-.59-.52 0-1.04.2-1.43.59L10.3 9.45l-7.72 7.72c-.78.78-.78 2.05 0 2.83L4 21.41c.39.39.9.59 1.41.59.51 0 1.02-.2 1.41-.59l7.78-7.78 2.81-2.81c.8-.78.8-2.07 0-2.86zM5.41 20L4 18.59l7.72-7.72 1.47 1.35L5.41 20z\"/>\n",
              "  </svg>\n",
              "      </button>\n",
              "      \n",
              "  <style>\n",
              "    .colab-df-container {\n",
              "      display:flex;\n",
              "      flex-wrap:wrap;\n",
              "      gap: 12px;\n",
              "    }\n",
              "\n",
              "    .colab-df-convert {\n",
              "      background-color: #E8F0FE;\n",
              "      border: none;\n",
              "      border-radius: 50%;\n",
              "      cursor: pointer;\n",
              "      display: none;\n",
              "      fill: #1967D2;\n",
              "      height: 32px;\n",
              "      padding: 0 0 0 0;\n",
              "      width: 32px;\n",
              "    }\n",
              "\n",
              "    .colab-df-convert:hover {\n",
              "      background-color: #E2EBFA;\n",
              "      box-shadow: 0px 1px 2px rgba(60, 64, 67, 0.3), 0px 1px 3px 1px rgba(60, 64, 67, 0.15);\n",
              "      fill: #174EA6;\n",
              "    }\n",
              "\n",
              "    [theme=dark] .colab-df-convert {\n",
              "      background-color: #3B4455;\n",
              "      fill: #D2E3FC;\n",
              "    }\n",
              "\n",
              "    [theme=dark] .colab-df-convert:hover {\n",
              "      background-color: #434B5C;\n",
              "      box-shadow: 0px 1px 3px 1px rgba(0, 0, 0, 0.15);\n",
              "      filter: drop-shadow(0px 1px 2px rgba(0, 0, 0, 0.3));\n",
              "      fill: #FFFFFF;\n",
              "    }\n",
              "  </style>\n",
              "\n",
              "      <script>\n",
              "        const buttonEl =\n",
              "          document.querySelector('#df-43159984-d0cc-4570-a5a2-c2a917f727ae button.colab-df-convert');\n",
              "        buttonEl.style.display =\n",
              "          google.colab.kernel.accessAllowed ? 'block' : 'none';\n",
              "\n",
              "        async function convertToInteractive(key) {\n",
              "          const element = document.querySelector('#df-43159984-d0cc-4570-a5a2-c2a917f727ae');\n",
              "          const dataTable =\n",
              "            await google.colab.kernel.invokeFunction('convertToInteractive',\n",
              "                                                     [key], {});\n",
              "          if (!dataTable) return;\n",
              "\n",
              "          const docLinkHtml = 'Like what you see? Visit the ' +\n",
              "            '<a target=\"_blank\" href=https://colab.research.google.com/notebooks/data_table.ipynb>data table notebook</a>'\n",
              "            + ' to learn more about interactive tables.';\n",
              "          element.innerHTML = '';\n",
              "          dataTable['output_type'] = 'display_data';\n",
              "          await google.colab.output.renderOutput(dataTable, element);\n",
              "          const docLink = document.createElement('div');\n",
              "          docLink.innerHTML = docLinkHtml;\n",
              "          element.appendChild(docLink);\n",
              "        }\n",
              "      </script>\n",
              "    </div>\n",
              "  </div>\n",
              "  "
            ]
          },
          "metadata": {},
          "execution_count": 40
        }
      ]
    },
    {
      "cell_type": "markdown",
      "source": [
        "## Import Libraries"
      ],
      "metadata": {
        "id": "j-CaTTV1ZXQw"
      }
    },
    {
      "cell_type": "code",
      "source": [
        "import pandas as pd\n",
        "import numpy as np\n",
        "from scipy.sparse import csr_matrix\n",
        "from sklearn import svm\n",
        "from sklearn.metrics import accuracy_score\n",
        "from sklearn.datasets import load_svmlight_file\n",
        "from sklearn.model_selection import train_test_split\n",
        "import matplotlib.pyplot as plt \n",
        "from sklearn.metrics import classification_report\n",
        "from sklearn.preprocessing import Normalizer\n",
        "from sklearn.metrics import accuracy_score, confusion_matrix, precision_score, recall_score\n",
        "from sklearn.preprocessing import normalize\n",
        "from sklearn.multiclass import OneVsRestClassifier\n",
        "from sklearn.multiclass import OneVsOneClassifier\n",
        "from sklearn.svm import LinearSVC\n",
        "from sklearn.feature_extraction.text import CountVectorizer\n"
      ],
      "metadata": {
        "id": "oYI7em9XdN7n"
      },
      "execution_count": null,
      "outputs": []
    },
    {
      "cell_type": "markdown",
      "source": [
        "### Problem 1 - (a). Load The Train AND Test Datasets as DataFrame in Python"
      ],
      "metadata": {
        "id": "Un5toNJPl4-y"
      }
    },
    {
      "cell_type": "code",
      "execution_count": null,
      "metadata": {
        "id": "5fcGyyWklQlq",
        "colab": {
          "base_uri": "https://localhost:8080/"
        },
        "outputId": "6669ae43-bf5e-4546-e0a3-6e9aee0f83a1"
      },
      "outputs": [
        {
          "output_type": "stream",
          "name": "stdout",
          "text": [
            "      Attributes\n",
            "0        archive\n",
            "1           name\n",
            "2        atheism\n",
            "3      resources\n",
            "4            alt\n",
            "...          ...\n",
            "61183  aeroplane\n",
            "61184     gosple\n",
            "61185      ephas\n",
            "61186   kltensme\n",
            "61187     etrbom\n",
            "\n",
            "[61188 rows x 1 columns]\n"
          ]
        },
        {
          "output_type": "execute_result",
          "data": {
            "text/plain": [
              "array([['archive'],\n",
              "       ['name'],\n",
              "       ['atheism'],\n",
              "       ...,\n",
              "       ['ephas'],\n",
              "       ['kltensme'],\n",
              "       ['etrbom']], dtype=object)"
            ]
          },
          "metadata": {},
          "execution_count": 2
        }
      ],
      "source": [
        "# Inputting the word dictionary given as \"words.map.txt\"\n",
        "mapping = pd.read_csv(\"words.map.txt\", sep = \"\\t\",  header=None, names=[\"Attributes\"])\n",
        "print(mapping)\n",
        "np.array(mapping)"
      ]
    },
    {
      "cell_type": "code",
      "source": [
        "# train = pd.read_csv(\"articles.train\")\n",
        "# print(train)"
      ],
      "metadata": {
        "id": "pvV3UL1gpH12"
      },
      "execution_count": null,
      "outputs": []
    },
    {
      "cell_type": "code",
      "source": [
        "# Define a function to read the file and convert it into a dataframe\n",
        "def loadthefile(filename):\n",
        "  with open(filename) as datafile:\n",
        "    count=0\n",
        "    column=[len(mapping)-1]\n",
        "    row=[0]\n",
        "    df=[0]\n",
        "    y=[]\n",
        "    # For each line in the file, defining the row and column values\n",
        "    for line in datafile:\n",
        "      # Split your line into a list of words split by the space.\n",
        "      elements = line.split(' ')\n",
        "      \n",
        "      # Read the very first element and the remaining ones as strings.\n",
        "      label, features = elements[0], elements[1:]\n",
        "      \n",
        "      # Split the features and frequency into column and df; y = label \n",
        "      yA = [float(label)]\n",
        "      columnA = [i.split(':', 1)[0] for i in elements[1:]]\n",
        "      columnA = [int(x) - 1 for x in columnA]\n",
        "      dfA = [i.split(':', 1)[1] for i in elements[1:]]\n",
        "      dfA = [float(x) for x in dfA]\n",
        "      rowA = [count]*(len(columnA))\n",
        "      column = column + columnA\n",
        "      df = df + dfA\n",
        "      row = row + rowA\n",
        "      y = y + yA\n",
        "      count += 1\n",
        "    \n",
        "    y = np.array(y)\n",
        "    X = (csr_matrix((df, (row, column))))\n",
        "    return X,y\n",
        "\n",
        "# Load the train data as X(indepedent variables) and Y(target variable) as a Dataframe\n",
        "x_train, y_train = loadthefile('articles.train')\n",
        "print(x_train)\n",
        "print(x_train.shape)\n",
        "print(y_train.shape)"
      ],
      "metadata": {
        "colab": {
          "base_uri": "https://localhost:8080/"
        },
        "id": "nWvf3grIqFRD",
        "outputId": "20a8c46e-2d88-457a-fd49-6832df80c387"
      },
      "execution_count": null,
      "outputs": [
        {
          "output_type": "stream",
          "name": "stdout",
          "text": [
            "  (0, 10)\t2.0\n",
            "  (0, 11)\t6.0\n",
            "  (0, 12)\t1.0\n",
            "  (0, 22)\t12.0\n",
            "  (0, 24)\t1.0\n",
            "  (0, 26)\t2.0\n",
            "  (0, 27)\t1.0\n",
            "  (0, 28)\t8.0\n",
            "  (0, 29)\t4.0\n",
            "  (0, 32)\t2.0\n",
            "  (0, 37)\t1.0\n",
            "  (0, 47)\t1.0\n",
            "  (0, 48)\t1.0\n",
            "  (0, 59)\t3.0\n",
            "  (0, 80)\t5.0\n",
            "  (0, 99)\t3.0\n",
            "  (0, 103)\t3.0\n",
            "  (0, 121)\t3.0\n",
            "  (0, 124)\t2.0\n",
            "  (0, 140)\t1.0\n",
            "  (0, 142)\t1.0\n",
            "  (0, 143)\t5.0\n",
            "  (0, 228)\t1.0\n",
            "  (0, 234)\t2.0\n",
            "  (0, 238)\t1.0\n",
            "  :\t:\n",
            "  (3999, 8935)\t1.0\n",
            "  (3999, 9291)\t1.0\n",
            "  (3999, 11317)\t1.0\n",
            "  (3999, 11353)\t2.0\n",
            "  (3999, 13584)\t1.0\n",
            "  (3999, 15216)\t1.0\n",
            "  (3999, 22522)\t1.0\n",
            "  (3999, 23310)\t1.0\n",
            "  (3999, 27608)\t1.0\n",
            "  (3999, 31930)\t1.0\n",
            "  (3999, 33311)\t1.0\n",
            "  (3999, 37131)\t1.0\n",
            "  (3999, 41457)\t1.0\n",
            "  (3999, 44460)\t1.0\n",
            "  (3999, 45514)\t4.0\n",
            "  (3999, 46529)\t1.0\n",
            "  (3999, 46901)\t1.0\n",
            "  (3999, 46902)\t1.0\n",
            "  (3999, 49498)\t3.0\n",
            "  (3999, 50583)\t1.0\n",
            "  (3999, 51016)\t2.0\n",
            "  (3999, 51856)\t1.0\n",
            "  (3999, 51857)\t2.0\n",
            "  (3999, 51947)\t1.0\n",
            "  (3999, 51948)\t1.0\n",
            "(4000, 61188)\n",
            "(4000,)\n"
          ]
        }
      ]
    },
    {
      "cell_type": "code",
      "source": [
        "# Load the test data as X(indepedent variables) and Y(target variable) as a Dataframe\n",
        "x_test, y_test = loadthefile('articles.test')\n",
        "print(x_test.shape)\n",
        "print(x_test)\n"
      ],
      "metadata": {
        "id": "0_SOG2giXoH6",
        "colab": {
          "base_uri": "https://localhost:8080/"
        },
        "outputId": "918a26d9-e336-452c-a096-3b91c2d05af3"
      },
      "execution_count": null,
      "outputs": [
        {
          "output_type": "stream",
          "name": "stdout",
          "text": [
            "(2400, 61188)\n",
            "  (0, 11)\t1.0\n",
            "  (0, 22)\t1.0\n",
            "  (0, 28)\t1.0\n",
            "  (0, 29)\t2.0\n",
            "  (0, 32)\t7.0\n",
            "  (0, 34)\t1.0\n",
            "  (0, 43)\t2.0\n",
            "  (0, 59)\t1.0\n",
            "  (0, 79)\t1.0\n",
            "  (0, 103)\t1.0\n",
            "  (0, 143)\t1.0\n",
            "  (0, 232)\t3.0\n",
            "  (0, 278)\t1.0\n",
            "  (0, 367)\t1.0\n",
            "  (0, 431)\t1.0\n",
            "  (0, 448)\t1.0\n",
            "  (0, 473)\t2.0\n",
            "  (0, 475)\t1.0\n",
            "  (0, 476)\t1.0\n",
            "  (0, 629)\t2.0\n",
            "  (0, 741)\t1.0\n",
            "  (0, 765)\t1.0\n",
            "  (0, 769)\t1.0\n",
            "  (0, 774)\t2.0\n",
            "  (0, 777)\t1.0\n",
            "  :\t:\n",
            "  (2399, 5625)\t1.0\n",
            "  (2399, 6377)\t1.0\n",
            "  (2399, 7265)\t2.0\n",
            "  (2399, 7273)\t3.0\n",
            "  (2399, 7274)\t8.0\n",
            "  (2399, 9532)\t2.0\n",
            "  (2399, 9538)\t1.0\n",
            "  (2399, 9930)\t1.0\n",
            "  (2399, 12052)\t3.0\n",
            "  (2399, 12275)\t1.0\n",
            "  (2399, 14512)\t1.0\n",
            "  (2399, 15400)\t1.0\n",
            "  (2399, 16658)\t1.0\n",
            "  (2399, 34334)\t1.0\n",
            "  (2399, 36108)\t1.0\n",
            "  (2399, 36286)\t1.0\n",
            "  (2399, 43303)\t1.0\n",
            "  (2399, 45378)\t1.0\n",
            "  (2399, 47350)\t1.0\n",
            "  (2399, 47499)\t1.0\n",
            "  (2399, 47872)\t2.0\n",
            "  (2399, 48750)\t1.0\n",
            "  (2399, 49498)\t2.0\n",
            "  (2399, 56212)\t1.0\n",
            "  (2399, 60573)\t2.0\n"
          ]
        }
      ]
    },
    {
      "cell_type": "markdown",
      "source": [
        "### Part-B First, train four different (hard-margin) linear classifiers.\n",
        "As SVM classifies only binary labels, you have to replace the target class number to 1 and all others to -1 before calling\n",
        "the library function. Here, We have used 1000 articles about politics as positive samples and 3,000 others as negative samples for training. Once you learn the four classifiers, the output label of each test example x\n",
        "is determined by the following formula:\n",
        "hw,b(x) = argmaxk∈{1,2,3,4}\n",
        "(w(k)\n",
        "T\n",
        "x + b\n",
        "(k)\n",
        ")\n",
        "\n",
        "where w(k) is the weight vector, and b(k) is the biased term for the class k. If the prediction hw,b(x) is different from the ground-truth class, it yields an error. Report the training and test errors of four classifiers, respectively."
      ],
      "metadata": {
        "id": "ptOoh5TtYCqT"
      }
    },
    {
      "cell_type": "code",
      "source": [
        "# Loading the train and test data sets as SVM Light file (as a text based file)\n",
        "# and taking the dense matrix to be able to build the SVM model \n",
        "\n",
        "x1_train,y1_train = load_svmlight_file('articles.train')\n",
        "x1_test,y1_test = load_svmlight_file('articles.test')\n",
        "x1_train.resize((x1_train.shape[0], mapping.shape[0]))\n",
        "x1_test.resize((x1_test.shape[0], mapping.shape[0]))\n",
        "\n",
        "if np.array_equal(x_train.todense(), x_train.todense()):\n",
        "    print(\"Successful!\")\n",
        "x1_train_dense = x_train\n",
        "x1_test_dense = x_test"
      ],
      "metadata": {
        "colab": {
          "base_uri": "https://localhost:8080/"
        },
        "id": "Hi8LTFLEvnKn",
        "outputId": "4b984ff9-9a45-4bd4-9b4a-1daaa42905d7"
      },
      "execution_count": null,
      "outputs": [
        {
          "output_type": "stream",
          "name": "stdout",
          "text": [
            "Successful!\n"
          ]
        }
      ]
    },
    {
      "cell_type": "code",
      "source": [
        "# To build binary SVM models, we divide the train and test datasets into each class datasets by addressing \n",
        "# the target class as 1 and the rest three classes as -1 \n",
        "\n",
        "# Train Test data set with Operations(1) as Target Class and rest three classes as -1\n",
        "y1_train_class1 = np.array([1 if y==1 else -1 for y in y_train])\n",
        "y1_test_class1 = np.array([1 if y==1 else -1 for y in y_test])\n",
        "\n",
        "# Train Test data set with Vehicles(1) as Target Class and rest three classes as -1\n",
        "y1_train_class2 = np.array([1 if y==2 else -1 for y in y_train])\n",
        "y1_test_class2 = np.array([1 if y==2 else -1 for y in y_test])\n",
        "\n",
        "# Train Test data set with Sports(1) as Target Class and rest three classes as -1\n",
        "y1_train_class3 = np.array([1 if y==3 else -1 for y in y_train])\n",
        "y1_test_class3 = np.array([1 if y==3 else -1 for y in y_test])\n",
        "\n",
        "# Train Test data set with Politics(1) as Target Class and rest three classes as -1\n",
        "y1_train_class4 = np.array([1 if y==4 else -1 for y in y_train])\n",
        "y1_test_class4 = np.array([1 if y==4 else -1 for y in y_test])\n",
        "\n",
        "# To build binary SVM models, we define a function \"binarySVM\" to return errors and predictions\n",
        "\n",
        "def binarySVM(xx_train, xx_test, yy_train, yy_test):\n",
        "  model = svm.SVC(kernel='linear', C=1E10, probability=True)\n",
        "  model.fit(xx_train, yy_train)\n",
        "  train_err = (1 - model.score(xx_train, yy_train))\n",
        "  test_err = (1 - model.score(xx_test, yy_test))\n",
        "  yhat = model.predict(xx_test)\n",
        "  print(\"Iteration Successful\")\n",
        "  return train_err, test_err, yhat, model"
      ],
      "metadata": {
        "id": "OjFQ5xl4bBXo"
      },
      "execution_count": null,
      "outputs": []
    },
    {
      "cell_type": "code",
      "source": [
        "train_err_class1, test_err_class1, yhat_class1, f1 = binarySVM(x1_train_dense, x1_test_dense, y1_train_class1, y1_test_class1)\n",
        "train_err_class2, test_err_class2, yhat_class2, f2 = binarySVM(x1_train_dense, x1_test_dense, y1_train_class2, y1_test_class2)\n",
        "train_err_class3, test_err_class3, yhat_class3, f3 = binarySVM(x1_train_dense, x1_test_dense, y1_train_class3, y1_test_class3)\n",
        "train_err_class4, test_err_class4, yhat_class4, f4 = binarySVM(x1_train_dense, x1_test_dense, y1_train_class4, y1_test_class4)"
      ],
      "metadata": {
        "colab": {
          "base_uri": "https://localhost:8080/"
        },
        "id": "IdUIJbnAg-KP",
        "outputId": "dbe6833a-4ac0-4bd1-b297-0adf46f0964f"
      },
      "execution_count": null,
      "outputs": [
        {
          "output_type": "stream",
          "name": "stdout",
          "text": [
            "Iteration Successful\n",
            "Iteration Successful\n",
            "Iteration Successful\n",
            "Iteration Successful\n"
          ]
        }
      ]
    },
    {
      "cell_type": "markdown",
      "source": [
        "Train and Test Errors"
      ],
      "metadata": {
        "id": "mG8FVi9_jBRO"
      }
    },
    {
      "cell_type": "code",
      "source": [
        "print(\"Hard-Margin SVM Training and Test Errors\")\n",
        "print('-'*80)\n",
        "print('HMC training err for Operating Systems: ',train_err_class1)\n",
        "print('HMC training err for Vehicles: ',train_err_class2)\n",
        "print('HMC training err for Sports: ', train_err_class3)\n",
        "print('HMC training err for Politics: ', train_err_class4)\n",
        "print('-'*80)\n",
        "print('HMC test err for Operating Systems: ', test_err_class1)\n",
        "print('HMC test err for Vehicles: ', test_err_class2)\n",
        "print('HMC test err for Sports: ', test_err_class3)\n",
        "print('HMC test err for Politics: ', test_err_class4)"
      ],
      "metadata": {
        "colab": {
          "base_uri": "https://localhost:8080/"
        },
        "id": "q-RySBQacb7T",
        "outputId": "32426cf9-b07a-443b-bc7e-da702f0a7c06"
      },
      "execution_count": null,
      "outputs": [
        {
          "output_type": "stream",
          "name": "stdout",
          "text": [
            "Hard-Margin SVM Training and Test Errors\n",
            "--------------------------------------------------------------------------------\n",
            "HMC training err for Operating Systems:  0.0\n",
            "HMC training err for Vehicles:  0.0\n",
            "HMC training err for Sports:  0.0\n",
            "HMC training err for Politics:  0.0\n",
            "--------------------------------------------------------------------------------\n",
            "HMC test err for Operating Systems:  0.04208333333333336\n",
            "HMC test err for Vehicles:  0.0658333333333333\n",
            "HMC test err for Sports:  0.050833333333333286\n",
            "HMC test err for Politics:  0.0591666666666667\n"
          ]
        }
      ]
    },
    {
      "cell_type": "code",
      "source": [
        "# Print the models \n",
        "print(f1)\n",
        "print(f2)\n",
        "print(f3)\n",
        "print(f4)"
      ],
      "metadata": {
        "colab": {
          "base_uri": "https://localhost:8080/"
        },
        "id": "L3DQ7F9Jjsbc",
        "outputId": "75b28a6d-8921-4f24-f58b-14fa9e0b9d49"
      },
      "execution_count": null,
      "outputs": [
        {
          "output_type": "stream",
          "name": "stdout",
          "text": [
            "SVC(C=10000000000.0, kernel='linear', probability=True)\n",
            "SVC(C=10000000000.0, kernel='linear', probability=True)\n",
            "SVC(C=10000000000.0, kernel='linear', probability=True)\n",
            "SVC(C=10000000000.0, kernel='linear', probability=True)\n"
          ]
        }
      ]
    },
    {
      "cell_type": "markdown",
      "source": [
        "Building the collective model after learning all 4 classifiers"
      ],
      "metadata": {
        "id": "Mtj6ZrSdl-od"
      }
    },
    {
      "cell_type": "code",
      "source": [
        "# Finding the prediction probabilities of each model based on the second column of probabilites\n",
        "\n",
        "pred1=f1.predict_proba(x1_test_dense)[:,1]\n",
        "pred2=f2.predict_proba(x1_test_dense)[:,1]\n",
        "pred3=f3.predict_proba(x1_test_dense)[:,1]\n",
        "pred4=f4.predict_proba(x1_test_dense)[:,1]"
      ],
      "metadata": {
        "id": "8PXtCknlj74N"
      },
      "execution_count": null,
      "outputs": []
    },
    {
      "cell_type": "code",
      "source": [
        "print(yhat_class1)\n",
        "print(pred1)\n",
        "print(len(pred1))"
      ],
      "metadata": {
        "colab": {
          "base_uri": "https://localhost:8080/"
        },
        "id": "q09YCkhtlhE3",
        "outputId": "06f7e174-602f-484a-a546-0eacaa03d589"
      },
      "execution_count": null,
      "outputs": [
        {
          "output_type": "stream",
          "name": "stdout",
          "text": [
            "[ 1  1  1 ... -1 -1 -1]\n",
            "[9.99999999e-01 8.90046106e-01 8.35571961e-01 ... 2.53101029e-06\n",
            " 1.00000010e-07 3.15239772e-05]\n",
            "2400\n"
          ]
        }
      ]
    },
    {
      "cell_type": "code",
      "source": [
        "# Concatenating all four classifiers to predict test example x\n",
        "predict_= np.concatenate((pred1.reshape((2400,1)), pred2.reshape((2400,1)),pred3.reshape((2400,1)),pred4.reshape((2400,1))), axis=1) #Using 2400 as the len(pred1) is 2400.\n",
        "predict_= np.argmax(predict_, axis=1)+1 # adding 1 so that the indexes match\n",
        "\n",
        "total_error = 1-accuracy_score(predict_, y1_test)\n",
        "\n",
        "print('The training err for the combined Model is: ', total_error)"
      ],
      "metadata": {
        "colab": {
          "base_uri": "https://localhost:8080/"
        },
        "id": "mFBUGha1mHZv",
        "outputId": "90a5249a-8c42-48ed-e654-b54f2eaf036c"
      },
      "execution_count": null,
      "outputs": [
        {
          "output_type": "stream",
          "name": "stdout",
          "text": [
            "The training err for the combined Model is:  0.0954166666666667\n"
          ]
        }
      ]
    },
    {
      "cell_type": "markdown",
      "source": [
        "### Part-C. Now you are to train soft-margin linear classifiers with different C values from {0.125,0.25, 0.5, 1, 2, 4, 8, ... , 256, 512}. In order to pick the best C value, you are required to perform a hold-out validation:\n",
        "1. Split the entire training data randomly into 75% for training and 25% for validation.\n",
        "2. For each C value, learn four binary classifiers similar to part (a) but only on the\n",
        "training data.\n",
        "3. Measure the overall classification error on the validation data.\n",
        "4. Pick the C with the lowest validation error. \n",
        "Plot a graph showing both training and validation errors together with varying\n",
        "C in log-scale. (i.e., x-axis: log2 C, y-axis: error rate) What are the best C value for\n",
        "multiclass classification? (Note: You should apply one uniform C value identically to all\n",
        "four soft-margin classifiers)"
      ],
      "metadata": {
        "id": "NgHQNLvmnKpv"
      }
    },
    {
      "cell_type": "markdown",
      "source": [
        "3.1 Dividing the data into 75:25 ratio "
      ],
      "metadata": {
        "id": "bUifylLR0cJ6"
      }
    },
    {
      "cell_type": "code",
      "source": [
        "# 3.1 Divide the data into 75% and 25% ratio into training and validation data \n",
        "def holdout_split(x,y):\n",
        "  xh_train, xh_test, yh_train, yh_test = train_test_split(x, y, test_size=0.25, random_state=100)\n",
        "  return xh_train, xh_test, yh_train, yh_test\n",
        "\n",
        "\n",
        "# Developing a soft margin classifier (SVM)\n",
        "def softmargin(xs_train, xs_test, ys_train, ys_test, slack):\n",
        "  # removing probability=True to make the model run fast\n",
        "  model = svm.SVC(kernel='linear', C=slack) \n",
        "  model.fit(xs_train, ys_train)\n",
        "  train_err = (1 - model.score(xs_train, ys_train))\n",
        "  test_err = (1 - model.score(xs_test, ys_test))\n",
        "  yhat_s = model.predict(xs_test)\n",
        "  return train_err, test_err, yhat_s\n",
        "  \n",
        "\n",
        "# Defining a function to build the soft margin SVM model for various values of C(0.125,...., 512) using the holdout data\n",
        "def c_value(x,y):\n",
        "  train_err = {}\n",
        "  test_err = {}\n",
        "  yhat = {}\n",
        "  x_train, x_test, y_train, y_test = holdout_split(x,y)\n",
        "  c = 0.125\n",
        "  while c < 513:\n",
        "    train, test, pred = softmargin(x_train, x_test, y_train, y_test, c)    \n",
        "    train_err.update({c:train})\n",
        "    test_err.update({c:test})\n",
        "    yhat.update({c:pred})\n",
        "    c = c + c\n",
        "\n",
        "  print(\"Iteration successful!\")\n",
        "  return train_err, test_err, yhat\n"
      ],
      "metadata": {
        "id": "9kX9j1fFnVdZ"
      },
      "execution_count": null,
      "outputs": []
    },
    {
      "cell_type": "markdown",
      "source": [
        "3.2 Building the soft margin models using different values of C only on training data"
      ],
      "metadata": {
        "id": "AZzliiVk0h3j"
      }
    },
    {
      "cell_type": "code",
      "source": [
        "# 3.2 Building the soft margin models using different values of C only on training data\n",
        "sm_train_err_class1, sm_test_err_class1, sm_yhat_class1 = c_value(x1_train_dense, y1_train_class1)\n",
        "sm_train_err_class2, sm_test_err_class2, sm_yhat_class2 = c_value(x1_train_dense, y1_train_class2)\n",
        "sm_train_err_class3, sm_test_err_class3, sm_yhat_class3 = c_value(x1_train_dense, y1_train_class3)\n",
        "sm_train_err_class4, sm_test_err_class4, sm_yhat_class4 = c_value(x1_train_dense, y1_train_class4)"
      ],
      "metadata": {
        "colab": {
          "base_uri": "https://localhost:8080/"
        },
        "id": "qo4Ca2Hst12v",
        "outputId": "0f904329-dd63-4d63-ed2e-a7cc36e61760"
      },
      "execution_count": null,
      "outputs": [
        {
          "output_type": "stream",
          "name": "stdout",
          "text": [
            "Iteration successful!\n",
            "Iteration successful!\n",
            "Iteration successful!\n",
            "Iteration successful!\n"
          ]
        }
      ]
    },
    {
      "cell_type": "code",
      "source": [
        "# Calculating validation error for all values of C for each class\n",
        "c_vals = np.array([0.125, 0.25, 0.5, 1.0, 2.0, 4.0, 8.0, 16.0, 32.0, 64.0, 128.0, 256.0, 512.0])\n",
        "validation_error = {}\n",
        "print('-'*70)\n",
        "print(\"Soft Margin SVM Validation err at different C values for Operating Systems:\")\n",
        "print('-'*80)\n",
        "for c in c_vals:\n",
        "  print('Error for Operating Systems at C = ',c,'is',sm_test_err_class1[c])\n",
        "\n",
        "print('-'*70)\n",
        "print(\"Soft Margin SVM Validation err at different C values for Vehicles:\")\n",
        "print('-'*70)\n",
        "for c in c_vals:\n",
        "  print('Error for Vehicles  at C = ',c,'is',sm_test_err_class2[c])\n",
        "\n",
        "print('-'*70)\n",
        "print(\"Soft Margin SVM Validation err at different C values for Sports:\")\n",
        "print('-'*70)\n",
        "for c in c_vals:\n",
        "  print('Error for Sports at C  = ',c,'is',sm_test_err_class3[c])\n",
        "\n",
        "print('-'*70)\n",
        "print(\"Soft Margin SVM Validation err at different C values for Politics:\")\n",
        "print('-'*70)\n",
        "for c in c_vals:\n",
        "  print('Error for Politics at C = ',c,'is',sm_test_err_class4[c])"
      ],
      "metadata": {
        "colab": {
          "base_uri": "https://localhost:8080/"
        },
        "id": "HJeMPQk1vJx2",
        "outputId": "18647951-985e-4b73-c2b0-e7d34bddd2de"
      },
      "execution_count": null,
      "outputs": [
        {
          "output_type": "stream",
          "name": "stdout",
          "text": [
            "----------------------------------------------------------------------\n",
            "Soft Margin SVM Validation err at different C values for Operating Systems:\n",
            "--------------------------------------------------------------------------------\n",
            "Error for Operating Systems at C =  0.125 is 0.026000000000000023\n",
            "Error for Operating Systems at C =  0.25 is 0.026000000000000023\n",
            "Error for Operating Systems at C =  0.5 is 0.027000000000000024\n",
            "Error for Operating Systems at C =  1.0 is 0.027000000000000024\n",
            "Error for Operating Systems at C =  2.0 is 0.027000000000000024\n",
            "Error for Operating Systems at C =  4.0 is 0.027000000000000024\n",
            "Error for Operating Systems at C =  8.0 is 0.027000000000000024\n",
            "Error for Operating Systems at C =  16.0 is 0.027000000000000024\n",
            "Error for Operating Systems at C =  32.0 is 0.027000000000000024\n",
            "Error for Operating Systems at C =  64.0 is 0.027000000000000024\n",
            "Error for Operating Systems at C =  128.0 is 0.027000000000000024\n",
            "Error for Operating Systems at C =  256.0 is 0.027000000000000024\n",
            "Error for Operating Systems at C =  512.0 is 0.027000000000000024\n",
            "----------------------------------------------------------------------\n",
            "Soft Margin SVM Validation err at different C values for Vehicles:\n",
            "----------------------------------------------------------------------\n",
            "Error for Vehicles  at C =  0.125 is 0.05500000000000005\n",
            "Error for Vehicles  at C =  0.25 is 0.05500000000000005\n",
            "Error for Vehicles  at C =  0.5 is 0.05500000000000005\n",
            "Error for Vehicles  at C =  1.0 is 0.05700000000000005\n",
            "Error for Vehicles  at C =  2.0 is 0.05600000000000005\n",
            "Error for Vehicles  at C =  4.0 is 0.05600000000000005\n",
            "Error for Vehicles  at C =  8.0 is 0.05600000000000005\n",
            "Error for Vehicles  at C =  16.0 is 0.05600000000000005\n",
            "Error for Vehicles  at C =  32.0 is 0.05600000000000005\n",
            "Error for Vehicles  at C =  64.0 is 0.05600000000000005\n",
            "Error for Vehicles  at C =  128.0 is 0.05600000000000005\n",
            "Error for Vehicles  at C =  256.0 is 0.05600000000000005\n",
            "Error for Vehicles  at C =  512.0 is 0.05600000000000005\n",
            "----------------------------------------------------------------------\n",
            "Soft Margin SVM Validation err at different C values for Sports:\n",
            "----------------------------------------------------------------------\n",
            "Error for Sports at C  =  0.125 is 0.03200000000000003\n",
            "Error for Sports at C  =  0.25 is 0.03300000000000003\n",
            "Error for Sports at C  =  0.5 is 0.03700000000000003\n",
            "Error for Sports at C  =  1.0 is 0.040000000000000036\n",
            "Error for Sports at C  =  2.0 is 0.04300000000000004\n",
            "Error for Sports at C  =  4.0 is 0.04300000000000004\n",
            "Error for Sports at C  =  8.0 is 0.04300000000000004\n",
            "Error for Sports at C  =  16.0 is 0.04300000000000004\n",
            "Error for Sports at C  =  32.0 is 0.04300000000000004\n",
            "Error for Sports at C  =  64.0 is 0.04300000000000004\n",
            "Error for Sports at C  =  128.0 is 0.04300000000000004\n",
            "Error for Sports at C  =  256.0 is 0.04300000000000004\n",
            "Error for Sports at C  =  512.0 is 0.04300000000000004\n",
            "----------------------------------------------------------------------\n",
            "Soft Margin SVM Validation err at different C values for Politics:\n",
            "----------------------------------------------------------------------\n",
            "Error for Politics at C =  0.125 is 0.027000000000000024\n",
            "Error for Politics at C =  0.25 is 0.028000000000000025\n",
            "Error for Politics at C =  0.5 is 0.028000000000000025\n",
            "Error for Politics at C =  1.0 is 0.028000000000000025\n",
            "Error for Politics at C =  2.0 is 0.028000000000000025\n",
            "Error for Politics at C =  4.0 is 0.028000000000000025\n",
            "Error for Politics at C =  8.0 is 0.028000000000000025\n",
            "Error for Politics at C =  16.0 is 0.028000000000000025\n",
            "Error for Politics at C =  32.0 is 0.028000000000000025\n",
            "Error for Politics at C =  64.0 is 0.028000000000000025\n",
            "Error for Politics at C =  128.0 is 0.028000000000000025\n",
            "Error for Politics at C =  256.0 is 0.028000000000000025\n",
            "Error for Politics at C =  512.0 is 0.028000000000000025\n"
          ]
        }
      ]
    },
    {
      "cell_type": "markdown",
      "source": [
        "3.3 Calculating the overall classification error on validation data"
      ],
      "metadata": {
        "id": "ywFn21aT0qcL"
      }
    },
    {
      "cell_type": "code",
      "source": [
        "# Calculate the best C based on average on all the errors\n",
        "for c in c_vals:\n",
        "  validation_error.update({c:(sm_test_err_class1[c]+sm_test_err_class2[c]+sm_test_err_class3[c]+sm_test_err_class4[c])/4})\n",
        "  print('Soft-Margin Classifier error on Validation data at C = ',c,'is',validation_error[c])\n",
        "print(\"\\n\")\n"
      ],
      "metadata": {
        "colab": {
          "base_uri": "https://localhost:8080/"
        },
        "id": "8VNSkzn60Kir",
        "outputId": "b8b4b103-2b32-478f-f9c9-f6f3cbb2d464"
      },
      "execution_count": null,
      "outputs": [
        {
          "output_type": "stream",
          "name": "stdout",
          "text": [
            "Soft-Margin Classifier error on Validation data at C =  0.125 is 0.03500000000000003\n",
            "Soft-Margin Classifier error on Validation data at C =  0.25 is 0.03550000000000003\n",
            "Soft-Margin Classifier error on Validation data at C =  0.5 is 0.03675000000000003\n",
            "Soft-Margin Classifier error on Validation data at C =  1.0 is 0.038000000000000034\n",
            "Soft-Margin Classifier error on Validation data at C =  2.0 is 0.038500000000000034\n",
            "Soft-Margin Classifier error on Validation data at C =  4.0 is 0.038500000000000034\n",
            "Soft-Margin Classifier error on Validation data at C =  8.0 is 0.038500000000000034\n",
            "Soft-Margin Classifier error on Validation data at C =  16.0 is 0.038500000000000034\n",
            "Soft-Margin Classifier error on Validation data at C =  32.0 is 0.038500000000000034\n",
            "Soft-Margin Classifier error on Validation data at C =  64.0 is 0.038500000000000034\n",
            "Soft-Margin Classifier error on Validation data at C =  128.0 is 0.038500000000000034\n",
            "Soft-Margin Classifier error on Validation data at C =  256.0 is 0.038500000000000034\n",
            "Soft-Margin Classifier error on Validation data at C =  512.0 is 0.038500000000000034\n",
            "\n",
            "\n"
          ]
        }
      ]
    },
    {
      "cell_type": "code",
      "source": [
        "# Printing out errors on train data \n",
        "print(\"Soft Margin SVM Validation err at different C values for Operating Systems:\")\n",
        "print('-'*80)\n",
        "print(sm_train_err_class1)\n",
        "\n",
        "print('-'*80)\n",
        "print(\"Soft Margin SVM Validation err at different C values for Vehicles:\")\n",
        "print('-'*80)\n",
        "print(sm_train_err_class2)\n",
        "\n",
        "print('-'*80)\n",
        "print(\"Soft Margin SVM Validation err at different C values for Sports:\")\n",
        "print('-'*80)\n",
        "print(sm_train_err_class3)\n",
        "\n",
        "print('-'*80)\n",
        "print(\"SMC Validation err at different C values for Poltics:\")\n",
        "print('-'*80)\n",
        "print(sm_train_err_class4)"
      ],
      "metadata": {
        "colab": {
          "base_uri": "https://localhost:8080/"
        },
        "id": "5rZVYTcH1nyy",
        "outputId": "cbb6d742-90ca-4182-978b-61608a3f0968"
      },
      "execution_count": null,
      "outputs": [
        {
          "output_type": "stream",
          "name": "stdout",
          "text": [
            "Soft Margin SVM Validation err at different C values for Operating Systems:\n",
            "--------------------------------------------------------------------------------\n",
            "{0.125: 0.0003333333333332966, 0.25: 0.0, 0.5: 0.0, 1.0: 0.0, 2.0: 0.0, 4.0: 0.0, 8.0: 0.0, 16.0: 0.0, 32.0: 0.0, 64.0: 0.0, 128.0: 0.0, 256.0: 0.0, 512.0: 0.0}\n",
            "--------------------------------------------------------------------------------\n",
            "Soft Margin SVM Validation err at different C values for Vehicles:\n",
            "--------------------------------------------------------------------------------\n",
            "{0.125: 0.0013333333333332975, 0.25: 0.0006666666666667043, 0.5: 0.0003333333333332966, 1.0: 0.0, 2.0: 0.0, 4.0: 0.0, 8.0: 0.0, 16.0: 0.0, 32.0: 0.0, 64.0: 0.0, 128.0: 0.0, 256.0: 0.0, 512.0: 0.0}\n",
            "--------------------------------------------------------------------------------\n",
            "Soft Margin SVM Validation err at different C values for Sports:\n",
            "--------------------------------------------------------------------------------\n",
            "{0.125: 0.0010000000000000009, 0.25: 0.0006666666666667043, 0.5: 0.0, 1.0: 0.0, 2.0: 0.0, 4.0: 0.0, 8.0: 0.0, 16.0: 0.0, 32.0: 0.0, 64.0: 0.0, 128.0: 0.0, 256.0: 0.0, 512.0: 0.0}\n",
            "--------------------------------------------------------------------------------\n",
            "SMC Validation err at different C values for Poltics:\n",
            "--------------------------------------------------------------------------------\n",
            "{0.125: 0.0003333333333332966, 0.25: 0.0, 0.5: 0.0, 1.0: 0.0, 2.0: 0.0, 4.0: 0.0, 8.0: 0.0, 16.0: 0.0, 32.0: 0.0, 64.0: 0.0, 128.0: 0.0, 256.0: 0.0, 512.0: 0.0}\n"
          ]
        }
      ]
    },
    {
      "cell_type": "markdown",
      "source": [
        "3.4 Picking the best C value for lowest validation error"
      ],
      "metadata": {
        "id": "ZBypjOkf1TNU"
      }
    },
    {
      "cell_type": "code",
      "source": [
        "print(\"-\"*80)\n",
        "best_c = min(validation_error, key=validation_error.get)\n",
        "print(\"The validation error is lowest at C =\", best_c)\n",
        "print(\"-\"*80)\n",
        "print(\"\\n\")"
      ],
      "metadata": {
        "colab": {
          "base_uri": "https://localhost:8080/"
        },
        "id": "EwsU19Y-1Wue",
        "outputId": "9ddfcb6d-3054-42e0-9385-5471d1313c51"
      },
      "execution_count": null,
      "outputs": [
        {
          "output_type": "stream",
          "name": "stdout",
          "text": [
            "--------------------------------------------------------------------------------\n",
            "The validation error is lowest at C = 0.125\n",
            "--------------------------------------------------------------------------------\n",
            "\n",
            "\n"
          ]
        }
      ]
    },
    {
      "cell_type": "markdown",
      "source": [
        "Building Graphs "
      ],
      "metadata": {
        "id": "4daAAffBvTr3"
      }
    },
    {
      "cell_type": "code",
      "source": [
        "#Plot soft margin training error for different C values on log scale\n",
        "c_vals = np.array([0.125, 0.25, 0.5, 1.0, 2.0, 4.0, 8.0, 16.0, 32.0, 64.0, 128.0, 256.0, 512.0])\n",
        "xaxis_logc = np.log2(c_vals)\n",
        "\n",
        "# Note - the Operating Systems train error is not visbile across the c values as the values of error at the correspoding c are 0 other than the value of c at 0.125\n",
        "\n",
        "plt.figure(num = 3, figsize=(8, 5))\n",
        "plt.plot( xaxis_logc, np.array(list(sm_train_err_class1.values())), marker='.', markerfacecolor='blue', markersize=12, color='red', linewidth=2, label=\"Operation System\")\n",
        "plt.plot( xaxis_logc, np.array(list(sm_train_err_class2.values())), marker='.', markerfacecolor='pink', markersize=12, color='lightcoral', linewidth=2, label=\"Vehicles\")\n",
        "plt.plot( xaxis_logc, np.array(list(sm_train_err_class3.values())), marker='.', markerfacecolor='purple', markersize=12, color='navy', linewidth=2, label=\"Sports\")\n",
        "plt.plot( xaxis_logc, np.array(list(sm_train_err_class4.values())), marker='.', markerfacecolor='lightcoral', markersize=12, color='plum', linewidth=2, label=\"Politics\")\n",
        "plt.xlabel(\"log2C\")\n",
        "plt.ylabel(\"Error\")\n",
        "plt.title(\"Soft Margin SVM 1-vs-All - Training Error\")\n",
        "plt.legend(fancybox=True, framealpha=1, shadow=True, borderpad=1)\n",
        "plt.show()\n",
        "\n",
        "plt.figure(num = 3, figsize=(8, 5))\n",
        "plt.plot( xaxis_logc, np.array(list(sm_test_err_class1.values())), marker='.', markerfacecolor='red', markersize=12, color='red', linewidth=2, label=\"Opn System\")\n",
        "plt.plot( xaxis_logc, np.array(list(sm_test_err_class2.values())), marker='.', markerfacecolor='lightcoral', markersize=12, color='lightcoral', linewidth=2, label=\"Vehicles\")\n",
        "plt.plot( xaxis_logc, np.array(list(sm_test_err_class3.values())), marker='.', markerfacecolor='navy', markersize=12, color='navy', linewidth=2, label=\"Sports\")\n",
        "plt.plot( xaxis_logc, np.array(list(sm_test_err_class4.values())), marker='.', markerfacecolor='plum', markersize=12, color='plum', linewidth=2, label=\"Politics\")\n",
        "plt.xlabel(\"log2C\")\n",
        "plt.ylabel(\"Error\")\n",
        "plt.title(\"Soft Margin SVM 1-vs-All - Validation Error\")\n",
        "plt.legend(fancybox=True, framealpha=1, shadow=True, borderpad=1)\n",
        "plt.show()\n",
        "\n"
      ],
      "metadata": {
        "colab": {
          "base_uri": "https://localhost:8080/",
          "height": 683
        },
        "id": "0_aEc_1i0Syp",
        "outputId": "0acada13-cad9-4091-85a4-7fc299a37106"
      },
      "execution_count": null,
      "outputs": [
        {
          "output_type": "display_data",
          "data": {
            "text/plain": [
              "<Figure size 576x360 with 1 Axes>"
            ],
            "image/png": "[encoded data removed]"
          },
          "metadata": {
            "needs_background": "light"
          }
        },
        {
          "output_type": "display_data",
          "data": {
            "text/plain": [
              "<Figure size 576x360 with 1 Axes>"
            ],
            "image/png": "[encoded data removed]"
          },
          "metadata": {
            "needs_background": "light"
          }
        }
      ]
    },
    {
      "cell_type": "markdown",
      "source": [
        "### Part-D. With the best C value chosen from part (b), learn four soft-margin classifiers again on the entire training set.\n",
        "* Considering the best value of c to be 0.125, we are going to learn four \n",
        "soft-margin classifiers again on the entire training set\n",
        "* Testing newly learned best classifiers on the test set similar to part (a)\n",
        "* Comparing the test error rates to hard-margin classifiers on part (a) and then explaining which classifier works better?"
      ],
      "metadata": {
        "id": "L37CeLS0NviE"
      }
    },
    {
      "cell_type": "code",
      "source": [
        "# Developing a soft margin classifier (SVM) with the best c value on the entire training set\n",
        "def softmargin_best(xs_train, xs_test, ys_train, ys_test, slack):\n",
        "  model = svm.SVC(kernel='linear', C=slack, probability=True) \n",
        "  model.fit(xs_train, ys_train)\n",
        "  train_err = (1 - model.score(xs_train, ys_train))\n",
        "  test_err = (1 - model.score(xs_test, ys_test))\n",
        "  yhat_s = model.predict(xs_test)\n",
        "  return train_err, test_err, yhat_s, model\n",
        "\n",
        "def c_value(x,y):\n",
        "  train_err = {}\n",
        "  test_err = {}\n",
        "  yhat = {}\n",
        "  x_train, x_test, y_train, y_test = holdout_split(x,y)\n",
        "  c = 0.125\n",
        "  while c < 513:\n",
        "    train, test, pred = softmargin(x_train, x_test, y_train, y_test, c)    \n",
        "    train_err.update({c:train})\n",
        "    test_err.update({c:test})\n",
        "    yhat.update({c:pred})\n",
        "    c = c + c\n",
        "\n",
        "  print(\"Iteration successful!\")\n",
        "  return train_err, test_err, yhat\n",
        "\n",
        "sm_mintrain_err_class1, sm_mintest_err_class1, sm_minyhat_class1, f1_d = softmargin_best(x1_train_dense, x1_test_dense, y1_train_class1, y1_test_class1, best_c)\n",
        "sm_mintrain_err_class2, sm_mintest_err_class2, sm_minyhat_class2, f2_d = softmargin_best(x1_train_dense, x1_test_dense, y1_train_class2, y1_test_class2, best_c)\n",
        "sm_mintrain_err_class3, sm_mintest_err_class3, sm_minyhat_class3, f3_d = softmargin_best(x1_train_dense, x1_test_dense, y1_train_class3, y1_test_class3, best_c)\n",
        "sm_mintrain_err_class4, sm_mintest_err_class4, sm_minyhat_class4, f4_d = softmargin_best(x1_train_dense, x1_test_dense, y1_train_class4, y1_test_class4, best_c)"
      ],
      "metadata": {
        "id": "HVYv8dTZOYhw"
      },
      "execution_count": null,
      "outputs": []
    },
    {
      "cell_type": "code",
      "source": [
        "# Calculating training & test error for the best value of C for each class\n",
        "\n",
        "print('-'*70)\n",
        "print(\"Soft-Margin SVM Training & Test Errors\")\n",
        "print('-'*70)\n",
        "print('SMC training error for Operating Systems at best C:  ', sm_mintrain_err_class1)\n",
        "print('SMC training error for Vehicles at best C: ', sm_mintrain_err_class2)\n",
        "print('SMC training error for Sports at best C: ', sm_mintrain_err_class3)\n",
        "print('SMC training error for Politics at best C: ', sm_mintrain_err_class4)\n",
        "print('-'*70)\n",
        "print('SMC test error for Operating Systems at best C: ', sm_mintest_err_class1)\n",
        "print('SMC test error for Vehicles at best C: ', sm_mintest_err_class2)\n",
        "print('SMC test error for Sports at best C: ', sm_mintest_err_class3)\n",
        "print('SMC test error for Politics at best C: ', sm_mintest_err_class4)"
      ],
      "metadata": {
        "id": "TH0hjnC5OY8V",
        "colab": {
          "base_uri": "https://localhost:8080/"
        },
        "outputId": "dd2588de-1543-4054-c5df-d1ed3082ef04"
      },
      "execution_count": null,
      "outputs": [
        {
          "output_type": "stream",
          "name": "stdout",
          "text": [
            "----------------------------------------------------------------------\n",
            "Soft-Margin SVM Training & Test Errors\n",
            "----------------------------------------------------------------------\n",
            "SMC training error for Operating Systems at best C:   0.00024999999999997247\n",
            "SMC training error for Vehicles at best C:  0.0010000000000000009\n",
            "SMC training error for Sports at best C:  0.0007500000000000284\n",
            "SMC training error for Politics at best C:  0.00024999999999997247\n",
            "----------------------------------------------------------------------\n",
            "SMC test error for Operating Systems at best C:  0.03833333333333333\n",
            "SMC test error for Vehicles at best C:  0.053749999999999964\n",
            "SMC test error for Sports at best C:  0.0345833333333333\n",
            "SMC test error for Politics at best C:  0.05833333333333335\n"
          ]
        }
      ]
    },
    {
      "cell_type": "code",
      "source": [
        "# Comparsion between soft-margin classifiers & hard-margin classifiers\n",
        "\n",
        "print(\"Performance Comparison of SMC vs HMC:\")\n",
        "print('-'*70)\n",
        "# Prediction & Performance of SMC Class:\n",
        "sm_yhat = list()\n",
        "for i in range(len(y1_test_class1)):\n",
        "  if(sm_minyhat_class1[i] > sm_minyhat_class2[i] and sm_minyhat_class1[i] > sm_minyhat_class3[i] and sm_minyhat_class1[i] > sm_minyhat_class4[i]):\n",
        "    sm_yhat.append(1)\n",
        "  elif(sm_minyhat_class2[i] > sm_minyhat_class1[i] and sm_minyhat_class2[i] > sm_minyhat_class3[i] and sm_minyhat_class2[i] > sm_minyhat_class4[i]):\n",
        "    sm_yhat.append(2)\n",
        "  elif(sm_minyhat_class3[i] > sm_minyhat_class1[i] and sm_minyhat_class3[i] > sm_minyhat_class2[i] and sm_minyhat_class3[i] > sm_minyhat_class4[i]):\n",
        "    sm_yhat.append(3)\n",
        "  else:\n",
        "    sm_yhat.append(4)\n",
        "print('-'*70)\n",
        "print(\"SoftMargin- SVM Classification Report: \")\n",
        "targetNames = ['Operating Systems', 'Vehicles', 'Sports', 'Politics']\n",
        "print(classification_report(y_test, sm_yhat, target_names = targetNames))\n",
        "print('-'*70)\n",
        "# Prediction & Performance of HMC Class:\n",
        "hm_yhat = list()\n",
        "for i in range(len(y1_test_class1)):\n",
        "  if(yhat_class1[i] > yhat_class2[i] and yhat_class1[i] > yhat_class3[i] and yhat_class1[i] > yhat_class4[i]):\n",
        "    hm_yhat.append(1)\n",
        "  elif(yhat_class2[i] > yhat_class1[i] and yhat_class2[i] > yhat_class3[i] and yhat_class2[i] > yhat_class4[i]):\n",
        "    hm_yhat.append(2)\n",
        "  elif(yhat_class3[i] > yhat_class1[i] and yhat_class3[i] > yhat_class2[i] and yhat_class3[i] > yhat_class4[i]):\n",
        "    hm_yhat.append(3)\n",
        "  else:\n",
        "    hm_yhat.append(4)\n",
        "print('-'*70)\n",
        "print(\"HardMargin- SVM Classification Report: \")\n",
        "print(classification_report(y_test, hm_yhat, target_names = targetNames))\n",
        "\n"
      ],
      "metadata": {
        "id": "RxGmxwXaN16Y",
        "colab": {
          "base_uri": "https://localhost:8080/"
        },
        "outputId": "e0319e01-dd7b-49c9-b120-7214bb644ffc"
      },
      "execution_count": null,
      "outputs": [
        {
          "output_type": "stream",
          "name": "stdout",
          "text": [
            "Performance Comparison of SMC vs HMC:\n",
            "----------------------------------------------------------------------\n",
            "----------------------------------------------------------------------\n",
            "SoftMargin- SVM Classification Report: \n",
            "                   precision    recall  f1-score   support\n",
            "\n",
            "Operating Systems       0.98      0.85      0.91       600\n",
            "         Vehicles       0.96      0.83      0.89       600\n",
            "           Sports       0.98      0.87      0.92       600\n",
            "         Politics       0.71      0.98      0.82       600\n",
            "\n",
            "         accuracy                           0.88      2400\n",
            "        macro avg       0.91      0.88      0.89      2400\n",
            "     weighted avg       0.91      0.88      0.89      2400\n",
            "\n",
            "----------------------------------------------------------------------\n",
            "----------------------------------------------------------------------\n",
            "HardMargin- SVM Classification Report: \n",
            "                   precision    recall  f1-score   support\n",
            "\n",
            "Operating Systems       0.97      0.84      0.90       600\n",
            "         Vehicles       0.95      0.81      0.88       600\n",
            "           Sports       0.95      0.84      0.89       600\n",
            "         Politics       0.70      0.97      0.81       600\n",
            "\n",
            "         accuracy                           0.87      2400\n",
            "        macro avg       0.89      0.87      0.87      2400\n",
            "     weighted avg       0.89      0.87      0.87      2400\n",
            "\n"
          ]
        }
      ]
    },
    {
      "cell_type": "code",
      "source": [
        "# Using ArgMax- combined model\n",
        "pred1=f1_d.predict_proba(x1_test_dense)[:,1]\n",
        "pred2=f2_d.predict_proba(x1_test_dense)[:,1]\n",
        "pred3=f3_d.predict_proba(x1_test_dense)[:,1]\n",
        "pred4=f4_d.predict_proba(x1_test_dense)[:,1]\n",
        "\n",
        "predict_= np.concatenate((pred1.reshape((2400,1)), pred2.reshape((2400,1)),pred3.reshape((2400,1)),pred4.reshape((2400,1))), axis=1) #Using 2400 as the len(pred1) is 2400.\n",
        "predict_= np.argmax(predict_, axis=1)+1 # adding 1 so that the indexes match\n",
        "\n",
        "total_error_d = 1-accuracy_score(predict_, y1_test)\n",
        "\n",
        "print(\"Overall Error of SMC: \", total_error_d)\n",
        "print(\"Overall Error of HMC: \", total_error)\n",
        "\n",
        "print(\"As the data cannot be linearly separated, soft-margin classifier ensured that data points close to the hyperplane are limited. Errors are reduced by decreasing misclassification through the accurate allocation of data points along the hyperplane. In hard-margin classifier however, data points are largely mis-classified therefore ensuing great errors.\")"
      ],
      "metadata": {
        "id": "jBO-swNa-7OX",
        "colab": {
          "base_uri": "https://localhost:8080/"
        },
        "outputId": "6ddcc2a6-adfe-498b-d40c-0798f53617e7"
      },
      "execution_count": null,
      "outputs": [
        {
          "output_type": "stream",
          "name": "stdout",
          "text": [
            "Overall Error of SMC:  0.08166666666666667\n",
            "Overall Error of HMC:  0.0954166666666667\n",
            "As the data cannot be linearly separated, soft-margin classifier ensured that data points close to the hyperplane are limited. Errors are reduced by decreasing misclassification through the accurate allocation of data points along the hyperplane. In hard-margin classifier however, data points are largely mis-classified therefore ensuing great errors.\n"
          ]
        }
      ]
    },
    {
      "cell_type": "markdown",
      "source": [
        "### Part-E. Normalize Feature Vectors And Compare The Test Errors To Soft Margin Classifiers Done Before\n",
        "\n",
        "So, In this part we are normalizing our Feature vectors X_train and X_test by dividing each feature with the L2 norm of the feature vector and as a result we get normalized feature vectors as X_train_norm and X_test_norm."
      ],
      "metadata": {
        "id": "Z3EcfozR3ZU-"
      }
    },
    {
      "cell_type": "code",
      "source": [
        "# Define a function to normalize feature vectors \n",
        "\n",
        "def normalize_vectors(x_train,x_test):\n",
        "  norm_x_train = normalize(x_train, norm='l2', axis=1, copy=True, return_norm=False)\n",
        "  norm_x_test = normalize(x_test, norm='l2', axis=1, copy=True, return_norm=False)\n",
        "  return norm_x_train,norm_x_test\n",
        "\n",
        "# Building models using soft margin function defined in part c) on normalized data on each class\n",
        "x1_train_dense_norm,x1_test_dense_norm = normalize_vectors(x1_train_dense,x1_test_dense)\n",
        "\n",
        "train_err_norm_class1, test_err_norm_class1, yhat_norm_class1 = c_value(x1_train_dense_norm, y1_train_class1)\n",
        "train_err_norm_class2, test_err_norm_class2, yhat_norm_class2 = c_value(x1_train_dense_norm, y1_train_class2)\n",
        "train_err_norm_class3, test_err_norm_class3, yhat_norm_class3 = c_value(x1_train_dense_norm, y1_train_class3)\n",
        "train_err_norm_class4, test_err_norm_class4, yhat_norm_class4 = c_value(x1_train_dense_norm, y1_train_class4)\n",
        "  \n",
        "#Calculating the average error on the validation data for the normalized feature vectors\n",
        "print(\"\\n\")\n",
        "print('-'*80)\n",
        "print(\"Soft Margin Classifier Validation error with normalized vectors at different C values:\")\n",
        "print('-'*80)\n",
        "validation_error_norm = {}\n",
        "for c in c_vals:\n",
        "  validation_error_norm.update({c:(test_err_norm_class1[c]+test_err_norm_class2[c]+test_err_norm_class3[c]+test_err_norm_class4[c])/4})\n",
        "  print('Soft-Margin Validation error (With Normalization) at C = ',c,'is',validation_error_norm[c])\n",
        "  \n",
        "# Finding the best C value for normalized Soft Margin Classifier\n",
        "print(\"\\n\"*2)\n",
        "best_c_value_norm = min(validation_error_norm, key=validation_error_norm.get)\n",
        "print(\"The validation error (With Normalization) is lowest  at C =\", best_c_value_norm)\n",
        "print(\"\\n\")\n",
        "\n"
      ],
      "metadata": {
        "colab": {
          "base_uri": "https://localhost:8080/"
        },
        "id": "qARD1xKi385e",
        "outputId": "223b8fdc-fc84-4811-ca73-a4d22bc2b205"
      },
      "execution_count": null,
      "outputs": [
        {
          "output_type": "stream",
          "name": "stdout",
          "text": [
            "Iteration successful!\n",
            "Iteration successful!\n",
            "Iteration successful!\n",
            "Iteration successful!\n",
            "\n",
            "\n",
            "--------------------------------------------------------------------------------\n",
            "Soft Margin Classifier Validation error with normalized vectors at different C values:\n",
            "--------------------------------------------------------------------------------\n",
            "Soft-Margin Validation error (With Normalization) at C =  0.125 is 0.14325\n",
            "Soft-Margin Validation error (With Normalization) at C =  0.25 is 0.07674999999999998\n",
            "Soft-Margin Validation error (With Normalization) at C =  0.5 is 0.04375000000000001\n",
            "Soft-Margin Validation error (With Normalization) at C =  1.0 is 0.030000000000000027\n",
            "Soft-Margin Validation error (With Normalization) at C =  2.0 is 0.02100000000000002\n",
            "Soft-Margin Validation error (With Normalization) at C =  4.0 is 0.019000000000000017\n",
            "Soft-Margin Validation error (With Normalization) at C =  8.0 is 0.02075000000000002\n",
            "Soft-Margin Validation error (With Normalization) at C =  16.0 is 0.02100000000000002\n",
            "Soft-Margin Validation error (With Normalization) at C =  32.0 is 0.02100000000000002\n",
            "Soft-Margin Validation error (With Normalization) at C =  64.0 is 0.02100000000000002\n",
            "Soft-Margin Validation error (With Normalization) at C =  128.0 is 0.02100000000000002\n",
            "Soft-Margin Validation error (With Normalization) at C =  256.0 is 0.02100000000000002\n",
            "Soft-Margin Validation error (With Normalization) at C =  512.0 is 0.02100000000000002\n",
            "\n",
            "\n",
            "\n",
            "The validation error (With Normalization) is lowest  at C = 4.0\n",
            "\n",
            "\n"
          ]
        }
      ]
    },
    {
      "cell_type": "markdown",
      "source": [
        "Building Graphs"
      ],
      "metadata": {
        "id": "cJ611FHUEcIr"
      }
    },
    {
      "cell_type": "code",
      "source": [
        "# Plot graphs of training and test errors on normalized data for different c value on log scale \n",
        "plt.figure(num = 3, figsize=(8, 5))\n",
        "plt.plot( xaxis_logc, np.array(list(train_err_norm_class1.values())), marker='.', markerfacecolor='goldenrod', markersize=12, color='orange', linewidth=2, label=\"Operation System\")\n",
        "plt.plot( xaxis_logc, np.array(list(train_err_norm_class2.values())), marker='.', markerfacecolor='lightcoral', markersize=12, color='lightcoral', linewidth=2, label=\"Vehicles\")\n",
        "plt.plot( xaxis_logc, np.array(list(train_err_norm_class3.values())), marker='.', markerfacecolor='navy', markersize=12, color='yellow', linewidth=2, label=\"Sports\")\n",
        "plt.plot( xaxis_logc, np.array(list(train_err_norm_class4.values())), marker='.', markerfacecolor='plum', markersize=12, color='green', linewidth=2, label=\"Politics\")\n",
        "plt.xlabel(\"log2C\")\n",
        "plt.ylabel(\"Error\")\n",
        "plt.title(\"Soft Margin SVM 1-vs-All - Training Error (With Normalization)\")\n",
        "plt.legend(fancybox=True, framealpha=1, shadow=True, borderpad=1)\n",
        "plt.show()\n",
        "\n",
        "plt.figure(num = 3, figsize=(8, 5))\n",
        "plt.plot( xaxis_logc, np.array(list(test_err_norm_class1.values())), marker='.', markerfacecolor='goldenrod', markersize=12, color='pink', linewidth=2, label=\"Operation System\")\n",
        "plt.plot( xaxis_logc, np.array(list(test_err_norm_class2.values())), marker='.', markerfacecolor='lightcoral', markersize=12, color='green', linewidth=2, label=\"Vehicles\")\n",
        "plt.plot( xaxis_logc, np.array(list(test_err_norm_class3.values())), marker='.', markerfacecolor='navy', markersize=12, color='plum', linewidth=2, label=\"Sports\")\n",
        "plt.plot( xaxis_logc, np.array(list(test_err_norm_class4.values())), marker='.', markerfacecolor='plum', markersize=12, color='navy', linewidth=2, label=\"Politics\")\n",
        "plt.xlabel(\"log2C\")\n",
        "plt.ylabel(\"Error\")\n",
        "plt.title(\"Soft Margin SVM 1-vs-All - Validation Error (With Normalization)\")\n",
        "plt.legend(fancybox=True, framealpha=1, shadow=True, borderpad=1)\n",
        "plt.show()\n"
      ],
      "metadata": {
        "colab": {
          "base_uri": "https://localhost:8080/",
          "height": 683
        },
        "id": "Sqp1gyT0Bj1S",
        "outputId": "4eba09f2-3da5-40bd-898e-1a27ffa3c264"
      },
      "execution_count": null,
      "outputs": [
        {
          "output_type": "display_data",
          "data": {
            "text/plain": [
              "<Figure size 576x360 with 1 Axes>"
            ],
            "image/png": "[encoded data removed]"
          },
          "metadata": {
            "needs_background": "light"
          }
        },
        {
          "output_type": "display_data",
          "data": {
            "text/plain": [
              "<Figure size 576x360 with 1 Axes>"
            ],
            "image/png": "[encoded data removed]"
          },
          "metadata": {
            "needs_background": "light"
          }
        }
      ]
    },
    {
      "cell_type": "code",
      "source": [
        "#Soft-Margin 1-vs-All Classifier at Best C\n",
        "\n",
        "sm_mintrain_err_norm_class1, sm_mintest_err_norm_class1, sm_minyhat_norm_class1, f1_e = softmargin_best(x1_train_dense_norm, x1_test_dense_norm, y1_train_class1, y1_test_class1, best_c_value_norm)\n",
        "sm_mintrain_err_norm_class2, sm_mintest_err_norm_class2, sm_minyhat_norm_class2, f2_e = softmargin_best(x1_train_dense_norm, x1_test_dense_norm, y1_train_class2, y1_test_class2, best_c_value_norm)\n",
        "sm_mintrain_err_norm_class3, sm_mintest_err_norm_class3, sm_minyhat_norm_class3, f3_e = softmargin_best(x1_train_dense_norm, x1_test_dense_norm, y1_train_class3, y1_test_class3, best_c_value_norm)\n",
        "sm_mintrain_err_norm_class4, sm_mintest_err_norm_class4, sm_minyhat_norm_class4, f4_e = softmargin_best(x1_train_dense_norm, x1_test_dense_norm, y1_train_class4, y1_test_class4, best_c_value_norm)\n",
        "\n",
        "print('-'*70)\n",
        "print(\"Soft-Margin SVM Training & Test Errors with Normalization\")\n",
        "print('-'*70)\n",
        "print('SMC training error for Operating Systems at best C:  ', sm_mintrain_err_norm_class1)\n",
        "print('SMC training erroor for Vehicles at best C: ', sm_mintrain_err_norm_class2)\n",
        "print('SMC training error for Sports at best C: ', sm_mintrain_err_norm_class3)\n",
        "print('SMC training error for Politics at best C: ', sm_mintrain_err_norm_class4)\n",
        "print('-'*70)\n",
        "print('SMC test error for Operating Systems at best C: ', sm_mintest_err_norm_class1)\n",
        "print('SMC test error for Vehicles at best C: ', sm_mintest_err_norm_class2)\n",
        "print('SMC test error for Sports at best C: ', sm_mintest_err_norm_class3)\n",
        "print('SMC test error for Politics at best C: ', sm_mintest_err_norm_class4)\n"
      ],
      "metadata": {
        "id": "OgBKF9VDHcu2",
        "colab": {
          "base_uri": "https://localhost:8080/"
        },
        "outputId": "90f03c00-0a8b-4169-db97-6631acf9244d"
      },
      "execution_count": null,
      "outputs": [
        {
          "output_type": "stream",
          "name": "stdout",
          "text": [
            "----------------------------------------------------------------------\n",
            "Soft-Margin SVM Training & Test Errors with Normalization\n",
            "----------------------------------------------------------------------\n",
            "SMC training error for Operating Systems at best C:   0.00024999999999997247\n",
            "SMC training erroor for Vehicles at best C:  0.0014999999999999458\n",
            "SMC training error for Sports at best C:  0.0\n",
            "SMC training error for Politics at best C:  0.00024999999999997247\n",
            "----------------------------------------------------------------------\n",
            "SMC test error for Operating Systems at best C:  0.032916666666666705\n",
            "SMC test error for Vehicles at best C:  0.03416666666666668\n",
            "SMC test error for Sports at best C:  0.026249999999999996\n",
            "SMC test error for Politics at best C:  0.029166666666666674\n"
          ]
        }
      ]
    },
    {
      "cell_type": "code",
      "source": [
        "#Soft-Margin Classifier Class Prediction & Performance:\n",
        "sm_yhat_norm = list()\n",
        "for i in range(len(y1_test_class1)):\n",
        "  if(sm_minyhat_norm_class1[i] > sm_minyhat_norm_class2[i] and sm_minyhat_norm_class1[i] > sm_minyhat_norm_class3[i] and sm_minyhat_norm_class1[i] > sm_minyhat_norm_class4[i]):\n",
        "    sm_yhat_norm.append(1)\n",
        "  elif(sm_minyhat_norm_class2[i] > sm_minyhat_norm_class1[i] and sm_minyhat_norm_class2[i] > sm_minyhat_norm_class3[i] and sm_minyhat_norm_class2[i] > sm_minyhat_norm_class4[i]):\n",
        "    sm_yhat_norm.append(2)\n",
        "  elif(sm_minyhat_norm_class3[i] > sm_minyhat_norm_class1[i] and sm_minyhat_norm_class3[i] > sm_minyhat_norm_class2[i] and sm_minyhat_norm_class3[i] > sm_minyhat_norm_class4[i]):\n",
        "    sm_yhat_norm.append(3)\n",
        "  else:\n",
        "    sm_yhat_norm.append(4)\n",
        "print('-'*70)\n",
        "print(\"Performance Comparison of SoftMargin SVM vs Soft-Margin SVM with Normalization:\")\n",
        "print(\"SoftMargin SVM- Classification Report: \")\n",
        "print(classification_report(y_test, sm_yhat, target_names = targetNames))\n",
        "print('-'*70)\n",
        "print(\"SoftMargin SVM- Classification Report with Normalization: \")\n",
        "print(classification_report(y_test, sm_yhat_norm, target_names = targetNames))\n",
        "print('-'*70)\n",
        "print(\"The test error of a soft-margin binary classifier for class 4-vs-all with and without normalization \")\n",
        "print(\"\\nSMC test error for Operating Systems (with Normalization) at best C: \", sm_mintest_err_norm_class1)\n",
        "print(\"SMC test error for Operating Systems (without Normalization) at best C: \", sm_mintest_err_class1)\n",
        "print(\"\\nSMC test error for Vehicles (with Normalization) at best C: \", sm_mintest_err_norm_class2)\n",
        "print(\"SMC test error for Vehicles (without Normalization) at best C: \", sm_mintest_err_class2)\n",
        "print(\"\\nSMC test error for Sports (with Normalization) at best C: \", sm_mintest_err_norm_class3)\n",
        "print(\"SMC test error for Sports (without Normalization) at best C: \", sm_mintest_err_class3)\n",
        "print(\"\\nSMC test error for Politics (with Normalization) at best C: \", sm_mintest_err_norm_class4)\n",
        "print(\"SMC test error for Politics (without Normalization) at best C: \", sm_mintest_err_class4)"
      ],
      "metadata": {
        "id": "Vm4AWB6SH-6a",
        "colab": {
          "base_uri": "https://localhost:8080/"
        },
        "outputId": "49ec5508-3952-4bc7-bf69-7931d0d4355b"
      },
      "execution_count": null,
      "outputs": [
        {
          "output_type": "stream",
          "name": "stdout",
          "text": [
            "----------------------------------------------------------------------\n",
            "Performance Comparison of SoftMargin SVM vs Soft-Margin SVM with Normalization:\n",
            "SoftMargin SVM- Classification Report: \n",
            "                   precision    recall  f1-score   support\n",
            "\n",
            "Operating Systems       0.98      0.85      0.91       600\n",
            "         Vehicles       0.96      0.83      0.89       600\n",
            "           Sports       0.98      0.87      0.92       600\n",
            "         Politics       0.71      0.98      0.82       600\n",
            "\n",
            "         accuracy                           0.88      2400\n",
            "        macro avg       0.91      0.88      0.89      2400\n",
            "     weighted avg       0.91      0.88      0.89      2400\n",
            "\n",
            "----------------------------------------------------------------------\n",
            "SoftMargin SVM- Classification Report with Normalization: \n",
            "                   precision    recall  f1-score   support\n",
            "\n",
            "Operating Systems       0.99      0.88      0.93       600\n",
            "         Vehicles       0.98      0.88      0.93       600\n",
            "           Sports       0.97      0.93      0.95       600\n",
            "         Politics       0.78      0.98      0.87       600\n",
            "\n",
            "         accuracy                           0.92      2400\n",
            "        macro avg       0.93      0.92      0.92      2400\n",
            "     weighted avg       0.93      0.92      0.92      2400\n",
            "\n",
            "----------------------------------------------------------------------\n",
            "The test error of a soft-margin binary classifier for class 4-vs-all with and without normalization \n",
            "\n",
            "SMC test error for Operating Systems (with Normalization) at best C:  0.032916666666666705\n",
            "SMC test error for Operating Systems (without Normalization) at best C:  0.03833333333333333\n",
            "\n",
            "SMC test error for Vehicles (with Normalization) at best C:  0.03416666666666668\n",
            "SMC test error for Vehicles (without Normalization) at best C:  0.053749999999999964\n",
            "\n",
            "SMC test error for Sports (with Normalization) at best C:  0.026249999999999996\n",
            "SMC test error for Sports (without Normalization) at best C:  0.0345833333333333\n",
            "\n",
            "SMC test error for Politics (with Normalization) at best C:  0.029166666666666674\n",
            "SMC test error for Politics (without Normalization) at best C:  0.05833333333333335\n"
          ]
        }
      ]
    },
    {
      "cell_type": "code",
      "source": [
        "# Using ArgMax- combined model\n",
        "pred1=f1_e.predict_proba(x1_test_dense)[:,1]\n",
        "pred2=f2_e.predict_proba(x1_test_dense)[:,1]\n",
        "pred3=f3_e.predict_proba(x1_test_dense)[:,1]\n",
        "pred4=f4_e.predict_proba(x1_test_dense)[:,1]\n",
        "\n",
        "pred_=np.concatenate((pred1.reshape((2400,1)), pred2.reshape((2400,1)),pred3.reshape((2400,1)),pred4.reshape((2400,1))), axis=1)\n",
        "pred_=np.argmax(pred_, axis=1)+1\n",
        "\n",
        "total_error_e = 1-accuracy_score(pred_, y1_test)\n",
        "\n",
        "\n",
        "print(\"Overall Error SMC without Normalization: \", total_error_d)\n",
        "print(\"Overall Error SMC with Normalization: \", total_error_e)"
      ],
      "metadata": {
        "id": "FALJ0qm8H_lR",
        "colab": {
          "base_uri": "https://localhost:8080/"
        },
        "outputId": "dbdf6923-c1e5-4563-d22f-0d09d15c1058"
      },
      "execution_count": null,
      "outputs": [
        {
          "output_type": "stream",
          "name": "stdout",
          "text": [
            "Overall Error SMC without Normalization:  0.08166666666666667\n",
            "Overall Error SMC with Normalization:  0.060833333333333295\n"
          ]
        }
      ]
    },
    {
      "cell_type": "markdown",
      "source": [
        "**CAN YOU CHECK WHY total_error_d and total_error_e HAVE THE SAME VALUE. I CAN'T FUGURE OUT.**"
      ],
      "metadata": {
        "id": "4UjcOSoWUiQA"
      }
    },
    {
      "cell_type": "code",
      "source": [
        "print( \"Lower error rates are produced when soft margin classifiers are utilised with normalised feature vectors. The consequence of non-recurring costs are not included in the statistical normalised feature vector. Without the use of normalised feature vectors when calculating soft margin classifiers depicts a great degree of error rates. \")"
      ],
      "metadata": {
        "id": "63kMH-1NIEaC",
        "colab": {
          "base_uri": "https://localhost:8080/"
        },
        "outputId": "5e040db2-e625-45c2-87ae-f32bf36244c4"
      },
      "execution_count": null,
      "outputs": [
        {
          "output_type": "stream",
          "name": "stdout",
          "text": [
            "Lower error rates are produced when soft margin classifiers are utilised with normalised feature vectors. The consequence of non-recurring costs are not included in the statistical normalised feature vector. Without the use of normalised feature vectors when calculating soft margin classifiers depicts a great degree of error rates. \n"
          ]
        }
      ]
    },
    {
      "cell_type": "markdown",
      "source": [],
      "metadata": {
        "id": "bs8jmDpFUgXu"
      }
    },
    {
      "cell_type": "markdown",
      "source": [
        "## **Part F** - Now what we are performing in this part is mentioned below:\n",
        "\n",
        "So far ,We have trained 1-vs-all classifiers - binary and multiclass. Now here we'll perform 1-vs-1, where we will train all 4C2 binary classifiers distinguishing between every pair of classes using OneVsOneClassifier. Since we have 4 classes, this classifier trains all (4C2 = 6) binary classifiers to classify every pair of classes. This classifier then picks the class with higher votes.\n",
        "\n",
        "We then Compare the accuracy of 1-vs-1 and 1-vs-all. Accuracy should be measured fairly between the two methods using normalized features as in part (e) and optimal C parameters as in part (b)."
      ],
      "metadata": {
        "id": "IRaN_DOaWqcd"
      }
    },
    {
      "cell_type": "code",
      "source": [
        "print ('Starting part F:')\n",
        "def filterCsrData(filename,l1,l2):\n",
        "  with open(filename) as datafile:\n",
        "    count=0\n",
        "    col=[len(mapping)-1]\n",
        "    row=[0]\n",
        "    data=[0]\n",
        "    y=[]\n",
        "    for line in datafile:\n",
        "      # Split your line into a list of words deliminated by the space.\n",
        "      elements = line.split(' ')\n",
        "      if int(elements[0]) in (l1,l2):\n",
        "        label, features = elements[0], elements[1:]\n",
        "        yA = [float(label)]\n",
        "        colA = [i.split(':', 1)[0] for i in elements[1:]]\n",
        "        colA = [int(x) - 1 for x in colA]\n",
        "        dataA = [i.split(':', 1)[1] for i in elements[1:]]\n",
        "        dataA = [float(x) for x in dataA]\n",
        "        rowA = [count]*(len(colA))\n",
        "        col = col + colA\n",
        "        data = data + dataA\n",
        "        row = row + rowA\n",
        "        y = y + yA\n",
        "        count += 1\n",
        "\n",
        "    y = np.array(y)\n",
        "    X = (csr_matrix((data, (row, col))))\n",
        "\n",
        "    return X,y\n",
        "\n",
        "X_train12,y_train12=filterCsrData('articles.train',1,2)\n",
        "X_train13,y_train13=filterCsrData('articles.train',1,3)\n",
        "X_train14,y_train14=filterCsrData('articles.train',1,4)\n",
        "X_train23,y_train23=filterCsrData('articles.train',2,3)\n",
        "X_train24,y_train24=filterCsrData('articles.train',2,4)\n",
        "X_train34,y_train34=filterCsrData('articles.train',3,4)\n",
        "\n",
        "y_train_12 = np.array([1 if y==1 else -1 for y in y_train12])\n",
        "y_train_13 = np.array([1 if y==1 else -1 for y in y_train13])\n",
        "y_train_14 = np.array([1 if y==1 else -1 for y in y_train14])\n",
        "y_train_23 = np.array([1 if y==2 else -1 for y in y_train23])\n",
        "y_train_24 = np.array([1 if y==2 else -1 for y in y_train24])\n",
        "y_train_34 = np.array([1 if y==3 else -1 for y in y_train34])\n",
        "\n",
        "X_train12,X_train23=normalize_vectors(X_train12,X_train23)\n",
        "X_train13,X_train24=normalize_vectors(X_train13,X_train24)\n",
        "X_train14,X_train34=normalize_vectors(X_train14,X_train34)\n",
        "\n",
        "print(\"We are taking the c=4, as The validation error (With Normalization) is lowest  at C = 4.0\")\n",
        "\n",
        "\n",
        "model_12 = svm.SVC(kernel='linear', C=4.0, decision_function_shape='ovo')\n",
        "model_12.fit(X_train12, y_train_12)\n",
        "yhat_12 = model_12.predict(x_test)\n",
        "model_13 = svm.SVC(kernel='linear', C=4.0, decision_function_shape='ovo')\n",
        "model_13.fit(X_train13, y_train_13)\n",
        "yhat_13 = model_13.predict(x_test)\n",
        "model_14 = svm.SVC(kernel='linear', C=4.0, decision_function_shape='ovo')\n",
        "model_14.fit(X_train14, y_train_14)\n",
        "yhat_14 = model_14.predict(x_test)\n",
        "model_23 = svm.SVC(kernel='linear', C=4.0, decision_function_shape='ovo')\n",
        "model_23.fit(X_train23, y_train_23)\n",
        "yhat_23 = model_23.predict(x_test)\n",
        "model_24 = svm.SVC(kernel='linear', C=4.0, decision_function_shape='ovo')\n",
        "model_24.fit(X_train24, y_train_24)\n",
        "yhat_24 = model_24.predict(x_test)\n",
        "model_34 = svm.SVC(kernel='linear', C=4.0, decision_function_shape='ovo')\n",
        "model_34.fit(X_train34, y_train_34)\n",
        "yhat_34 = model_34.predict(x_test)\n",
        "\n",
        "y_train_12_mod_val = np.array([1 if y==1 else 2 for y in yhat_12])\n",
        "y_train_13_mod_val = np.array([1 if y==1 else 3 for y in yhat_13])\n",
        "y_train_14_mod_val = np.array([1 if y==1 else 4 for y in yhat_14])\n",
        "y_train_23_mod_val = np.array([2 if y==1 else 3 for y in yhat_23])\n",
        "y_train_24_mod_val = np.array([2 if y==1 else 4 for y in yhat_24])\n",
        "y_train_34_mod_val = np.array([3 if y==1 else 4 for y in yhat_34])\n",
        "\n",
        "yhat_array_val = np.array([y_train_12_mod_val,y_train_13_mod_val,y_train_14_mod_val,y_train_23_mod_val,y_train_24_mod_val,y_train_34_mod_val])\n",
        "\n",
        "y_hat_mapping = pd.DataFrame(yhat_array_val)\n",
        "\n",
        "y_hat_OnetoOne=y_hat_mapping.mode().iloc[0].to_numpy(dtype='int64')\n",
        "\n",
        "print(\"*\"*80)\n",
        "print(\"Soft-Margin SVM Classification Report: \")\n",
        "print(\"*\"*80)\n",
        "print(classification_report(y_test, y_hat_OnetoOne, target_names=targetNames))\n",
        "\n",
        "print(\"The Accuracy for One vs One multiclass classifier is *91%*\")\n",
        "print(\"Soft-Margin SVM Classification Report (With Normalization) (refer to output in Part-E), the accuracy of the One vs all multiclass classifer is *92%*. Based on our \")"
      ],
      "metadata": {
        "id": "xk8W9jDVWtQJ",
        "colab": {
          "base_uri": "https://localhost:8080/"
        },
        "outputId": "e91662cb-c87b-4f13-909c-dead0fe80502"
      },
      "execution_count": null,
      "outputs": [
        {
          "output_type": "stream",
          "name": "stdout",
          "text": [
            "Starting part F:\n",
            "We are taking the c=4, as The validation error (With Normalization) is lowest  at C = 4.0\n",
            "********************************************************************************\n",
            "Soft-Margin SVM Classification Report: \n",
            "********************************************************************************\n",
            "                   precision    recall  f1-score   support\n",
            "\n",
            "Operating Systems       0.93      0.90      0.92       600\n",
            "         Vehicles       0.95      0.86      0.90       600\n",
            "           Sports       0.96      0.91      0.94       600\n",
            "         Politics       0.81      0.96      0.88       600\n",
            "\n",
            "         accuracy                           0.91      2400\n",
            "        macro avg       0.92      0.91      0.91      2400\n",
            "     weighted avg       0.92      0.91      0.91      2400\n",
            "\n",
            "The Accuracy for One vs One multiclass classifier is *91%*\n",
            "Soft-Margin SVM Classification Report (With Normalization) (refer to output in Part-E), the accuracy of the One vs all multiclass classifer is *92%*. Based on our \n"
          ]
        }
      ]
    }
  ]
}